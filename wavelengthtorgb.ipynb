{
 "cells": [
  {
   "cell_type": "code",
   "execution_count": 1,
   "metadata": {},
   "outputs": [],
   "source": [
    "import numpy as np\n",
    "import matplotlib.pyplot as plt\n",
    "from ipywidgets import interact, FloatSlider,Layout"
   ]
  },
  {
   "cell_type": "code",
   "execution_count": 2,
   "metadata": {},
   "outputs": [],
   "source": [
    "def wavelength_to_rgb(wavelength, gamma, intensity_max):\n",
    "    blue = 0.0\n",
    "    green = 0.0\n",
    "    red = 0.0\n",
    "    factor = 0.0\n",
    "\n",
    "    #выбираем ведущий цвет в зависмости от длинны волны\n",
    "    if 380 <= wavelength < 440:\n",
    "        red = -(wavelength - 440) / (440 - 380)\n",
    "        green = 0.0\n",
    "        blue = 1.0\n",
    "    elif 440 <= wavelength < 490:\n",
    "        red = 0.0\n",
    "        green = (wavelength - 440) / (490 - 440)\n",
    "        blue = 1.0\n",
    "    elif 490 <= wavelength < 510:\n",
    "        red = 0.0\n",
    "        green = 1.0\n",
    "        blue = -(wavelength - 510) / (510 - 490)\n",
    "    elif 510 <= wavelength < 580:\n",
    "        red = (wavelength - 510) / (580 - 510)\n",
    "        green = 1.0\n",
    "        blue = 0.0\n",
    "    elif 580 <= wavelength < 645:\n",
    "        red = 1.0\n",
    "        green = -(wavelength - 645) / (645 - 580)\n",
    "        blue = 0.0\n",
    "    elif 645 <= wavelength <= 780:\n",
    "        red = 1.0\n",
    "        green = 0.0\n",
    "        blue = 0.0\n",
    "\n",
    "#считаем коррекцию интенсивности света в зависимости от длинны волны\n",
    "    if 380 <= wavelength < 420:\n",
    "        factor = 0.3 + 0.7 * (wavelength - 380) / (420 - 380)\n",
    "    elif 420 <= wavelength < 700:\n",
    "        factor = 1.0\n",
    "    elif 700 <= wavelength <= 780:\n",
    "        factor = 0.3 + 0.7 * (780 - wavelength) / (780 - 700)\n",
    "\n",
    "#считаем 3 компоненты R,G,B как:интенсивность * (цвет * коэф.корр.интенсивности) ^ коэф.коррекции цвета\n",
    "    R = round(intensity_max * ((red * factor) ** gamma))\n",
    "    G = round(intensity_max * ((green * factor) ** gamma))\n",
    "    B = round(intensity_max * ((blue * factor) ** gamma))\n",
    "\n",
    "    return R, G, B"
   ]
  },
  {
   "cell_type": "code",
   "execution_count": 3,
   "metadata": {},
   "outputs": [
    {
     "data": {
      "application/vnd.jupyter.widget-view+json": {
       "model_id": "6cd9a99f50c04edea730de4bc747e939",
       "version_major": 2,
       "version_minor": 0
      },
      "text/plain": [
       "interactive(children=(FloatSlider(value=500.0, description='wavelength', layout=Layout(width='500px'), max=780…"
      ]
     },
     "metadata": {},
     "output_type": "display_data"
    }
   ],
   "source": [
    "from ipywidgets import interact, FloatSlider, Layout\n",
    "\n",
    "def visualize_spectrum(wavelength, gamma, intensity_max):\n",
    "    colors = [wavelength_to_rgb(w, gamma, intensity_max) for w in np.arange(380, 781, 1)]\n",
    "    plt.figure(figsize=(10, 2), dpi=200)\n",
    "    plt.imshow([colors], aspect='auto')\n",
    "    plt.axis('off')\n",
    "    plt.show()\n",
    "    rgb = wavelength_to_rgb(wavelength, gamma, intensity_max)\n",
    "    print(f'RGB для длины волны {wavelength} нм: {rgb}')\n",
    "    plt.figure(figsize=(3, 1))\n",
    "    plt.imshow([[rgb]], aspect='auto')\n",
    "    plt.axis('off')\n",
    "    plt.show()\n",
    "\n",
    "slider_layout = Layout(width='500px')  # Adjust as needed\n",
    "\n",
    "interact(visualize_spectrum,\n",
    "         wavelength=FloatSlider(min=380, max=780, step=0.1, value=500, layout=slider_layout),\n",
    "         gamma=FloatSlider(min=0, max=5, step=0.01, value=1, layout=slider_layout),\n",
    "         intensity_max=FloatSlider(min=0, max=255, step=0.1, value=255, layout=slider_layout));\n"
   ]
  }
 ],
 "metadata": {
  "kernelspec": {
   "display_name": "Python 3",
   "language": "python",
   "name": "python3"
  },
  "language_info": {
   "codemirror_mode": {
    "name": "ipython",
    "version": 3
   },
   "file_extension": ".py",
   "mimetype": "text/x-python",
   "name": "python",
   "nbconvert_exporter": "python",
   "pygments_lexer": "ipython3",
   "version": "3.11.6"
  }
 },
 "nbformat": 4,
 "nbformat_minor": 2
}
